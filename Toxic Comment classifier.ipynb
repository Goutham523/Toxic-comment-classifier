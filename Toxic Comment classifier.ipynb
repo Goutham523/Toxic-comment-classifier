{
 "cells": [
  {
   "cell_type": "markdown",
   "id": "ba59c1f6",
   "metadata": {},
   "source": [
    "# Importing important libraries."
   ]
  },
  {
   "cell_type": "code",
   "execution_count": 65,
   "id": "7467cd17",
   "metadata": {},
   "outputs": [],
   "source": [
    "# Import relevant packages\n",
    "import matplotlib.pyplot as plt\n",
    "import nltk\n",
    "import numpy as np\n",
    "import re \n",
    "import pandas as pd\n",
    "import string\n",
    "import seaborn as sns\n",
    "\n",
    "# Remove useless words\n",
    "from nltk.corpus import stopwords \n",
    "# Convert words to base form; aggressive\n",
    "from nltk.stem.lancaster import LancasterStemmer  "
   ]
  },
  {
   "cell_type": "code",
   "execution_count": 2,
   "id": "92c8af86",
   "metadata": {},
   "outputs": [],
   "source": [
    "# Import packages that help us to create document-term matrix\n",
    "from sklearn.feature_extraction.text import CountVectorizer, TfidfVectorizer"
   ]
  },
  {
   "cell_type": "code",
   "execution_count": 3,
   "id": "23bd932f",
   "metadata": {},
   "outputs": [],
   "source": [
    "#nltk.download('stopwords')"
   ]
  },
  {
   "cell_type": "code",
   "execution_count": 4,
   "id": "5324600a",
   "metadata": {},
   "outputs": [
    {
     "data": {
      "text/plain": [
       "{'a',\n",
       " 'about',\n",
       " 'above',\n",
       " 'after',\n",
       " 'again',\n",
       " 'against',\n",
       " 'ain',\n",
       " 'all',\n",
       " 'am',\n",
       " 'an',\n",
       " 'and',\n",
       " 'any',\n",
       " 'are',\n",
       " 'aren',\n",
       " \"aren't\",\n",
       " 'as',\n",
       " 'at',\n",
       " 'be',\n",
       " 'because',\n",
       " 'been',\n",
       " 'before',\n",
       " 'being',\n",
       " 'below',\n",
       " 'between',\n",
       " 'both',\n",
       " 'but',\n",
       " 'by',\n",
       " 'can',\n",
       " 'couldn',\n",
       " \"couldn't\",\n",
       " 'd',\n",
       " 'did',\n",
       " 'didn',\n",
       " \"didn't\",\n",
       " 'do',\n",
       " 'does',\n",
       " 'doesn',\n",
       " \"doesn't\",\n",
       " 'doing',\n",
       " 'don',\n",
       " \"don't\",\n",
       " 'down',\n",
       " 'during',\n",
       " 'each',\n",
       " 'few',\n",
       " 'for',\n",
       " 'from',\n",
       " 'further',\n",
       " 'had',\n",
       " 'hadn',\n",
       " \"hadn't\",\n",
       " 'has',\n",
       " 'hasn',\n",
       " \"hasn't\",\n",
       " 'have',\n",
       " 'haven',\n",
       " \"haven't\",\n",
       " 'having',\n",
       " 'he',\n",
       " 'her',\n",
       " 'here',\n",
       " 'hers',\n",
       " 'herself',\n",
       " 'him',\n",
       " 'himself',\n",
       " 'his',\n",
       " 'how',\n",
       " 'i',\n",
       " 'if',\n",
       " 'in',\n",
       " 'into',\n",
       " 'is',\n",
       " 'isn',\n",
       " \"isn't\",\n",
       " 'it',\n",
       " \"it's\",\n",
       " 'its',\n",
       " 'itself',\n",
       " 'just',\n",
       " 'll',\n",
       " 'm',\n",
       " 'ma',\n",
       " 'me',\n",
       " 'mightn',\n",
       " \"mightn't\",\n",
       " 'more',\n",
       " 'most',\n",
       " 'mustn',\n",
       " \"mustn't\",\n",
       " 'my',\n",
       " 'myself',\n",
       " 'needn',\n",
       " \"needn't\",\n",
       " 'no',\n",
       " 'nor',\n",
       " 'not',\n",
       " 'now',\n",
       " 'o',\n",
       " 'of',\n",
       " 'off',\n",
       " 'on',\n",
       " 'once',\n",
       " 'only',\n",
       " 'or',\n",
       " 'other',\n",
       " 'our',\n",
       " 'ours',\n",
       " 'ourselves',\n",
       " 'out',\n",
       " 'over',\n",
       " 'own',\n",
       " 're',\n",
       " 's',\n",
       " 'same',\n",
       " 'shan',\n",
       " \"shan't\",\n",
       " 'she',\n",
       " \"she's\",\n",
       " 'should',\n",
       " \"should've\",\n",
       " 'shouldn',\n",
       " \"shouldn't\",\n",
       " 'so',\n",
       " 'some',\n",
       " 'such',\n",
       " 't',\n",
       " 'than',\n",
       " 'that',\n",
       " \"that'll\",\n",
       " 'the',\n",
       " 'their',\n",
       " 'theirs',\n",
       " 'them',\n",
       " 'themselves',\n",
       " 'then',\n",
       " 'there',\n",
       " 'these',\n",
       " 'they',\n",
       " 'this',\n",
       " 'those',\n",
       " 'through',\n",
       " 'to',\n",
       " 'too',\n",
       " 'under',\n",
       " 'until',\n",
       " 'up',\n",
       " 've',\n",
       " 'very',\n",
       " 'was',\n",
       " 'wasn',\n",
       " \"wasn't\",\n",
       " 'we',\n",
       " 'were',\n",
       " 'weren',\n",
       " \"weren't\",\n",
       " 'what',\n",
       " 'when',\n",
       " 'where',\n",
       " 'which',\n",
       " 'while',\n",
       " 'who',\n",
       " 'whom',\n",
       " 'why',\n",
       " 'will',\n",
       " 'with',\n",
       " 'won',\n",
       " \"won't\",\n",
       " 'wouldn',\n",
       " \"wouldn't\",\n",
       " 'y',\n",
       " 'you',\n",
       " \"you'd\",\n",
       " \"you'll\",\n",
       " \"you're\",\n",
       " \"you've\",\n",
       " 'your',\n",
       " 'yours',\n",
       " 'yourself',\n",
       " 'yourselves'}"
      ]
     },
     "execution_count": 4,
     "metadata": {},
     "output_type": "execute_result"
    }
   ],
   "source": [
    "# Stopwords are a list of 'useless' words\n",
    "set(stopwords.words('english'))"
   ]
  },
  {
   "cell_type": "code",
   "execution_count": 5,
   "id": "80bba2b0",
   "metadata": {},
   "outputs": [
    {
     "data": {
      "text/html": [
       "<div>\n",
       "<style scoped>\n",
       "    .dataframe tbody tr th:only-of-type {\n",
       "        vertical-align: middle;\n",
       "    }\n",
       "\n",
       "    .dataframe tbody tr th {\n",
       "        vertical-align: top;\n",
       "    }\n",
       "\n",
       "    .dataframe thead th {\n",
       "        text-align: right;\n",
       "    }\n",
       "</style>\n",
       "<table border=\"1\" class=\"dataframe\">\n",
       "  <thead>\n",
       "    <tr style=\"text-align: right;\">\n",
       "      <th></th>\n",
       "      <th>id</th>\n",
       "      <th>comment_text</th>\n",
       "      <th>toxic</th>\n",
       "      <th>severe_toxic</th>\n",
       "      <th>obscene</th>\n",
       "      <th>threat</th>\n",
       "      <th>insult</th>\n",
       "      <th>identity_hate</th>\n",
       "    </tr>\n",
       "  </thead>\n",
       "  <tbody>\n",
       "    <tr>\n",
       "      <th>0</th>\n",
       "      <td>0000997932d777bf</td>\n",
       "      <td>Explanation\\nWhy the edits made under my usern...</td>\n",
       "      <td>0</td>\n",
       "      <td>0</td>\n",
       "      <td>0</td>\n",
       "      <td>0</td>\n",
       "      <td>0</td>\n",
       "      <td>0</td>\n",
       "    </tr>\n",
       "    <tr>\n",
       "      <th>1</th>\n",
       "      <td>000103f0d9cfb60f</td>\n",
       "      <td>D'aww! He matches this background colour I'm s...</td>\n",
       "      <td>0</td>\n",
       "      <td>0</td>\n",
       "      <td>0</td>\n",
       "      <td>0</td>\n",
       "      <td>0</td>\n",
       "      <td>0</td>\n",
       "    </tr>\n",
       "    <tr>\n",
       "      <th>2</th>\n",
       "      <td>000113f07ec002fd</td>\n",
       "      <td>Hey man, I'm really not trying to edit war. It...</td>\n",
       "      <td>0</td>\n",
       "      <td>0</td>\n",
       "      <td>0</td>\n",
       "      <td>0</td>\n",
       "      <td>0</td>\n",
       "      <td>0</td>\n",
       "    </tr>\n",
       "    <tr>\n",
       "      <th>3</th>\n",
       "      <td>0001b41b1c6bb37e</td>\n",
       "      <td>\"\\nMore\\nI can't make any real suggestions on ...</td>\n",
       "      <td>0</td>\n",
       "      <td>0</td>\n",
       "      <td>0</td>\n",
       "      <td>0</td>\n",
       "      <td>0</td>\n",
       "      <td>0</td>\n",
       "    </tr>\n",
       "    <tr>\n",
       "      <th>4</th>\n",
       "      <td>0001d958c54c6e35</td>\n",
       "      <td>You, sir, are my hero. Any chance you remember...</td>\n",
       "      <td>0</td>\n",
       "      <td>0</td>\n",
       "      <td>0</td>\n",
       "      <td>0</td>\n",
       "      <td>0</td>\n",
       "      <td>0</td>\n",
       "    </tr>\n",
       "  </tbody>\n",
       "</table>\n",
       "</div>"
      ],
      "text/plain": [
       "                 id                                       comment_text  toxic  \\\n",
       "0  0000997932d777bf  Explanation\\nWhy the edits made under my usern...      0   \n",
       "1  000103f0d9cfb60f  D'aww! He matches this background colour I'm s...      0   \n",
       "2  000113f07ec002fd  Hey man, I'm really not trying to edit war. It...      0   \n",
       "3  0001b41b1c6bb37e  \"\\nMore\\nI can't make any real suggestions on ...      0   \n",
       "4  0001d958c54c6e35  You, sir, are my hero. Any chance you remember...      0   \n",
       "\n",
       "   severe_toxic  obscene  threat  insult  identity_hate  \n",
       "0             0        0       0       0              0  \n",
       "1             0        0       0       0              0  \n",
       "2             0        0       0       0              0  \n",
       "3             0        0       0       0              0  \n",
       "4             0        0       0       0              0  "
      ]
     },
     "execution_count": 5,
     "metadata": {},
     "output_type": "execute_result"
    }
   ],
   "source": [
    "df= pd.read_csv(\"C:/Users/gouth/Downloads/train.csv\")\n",
    "df.head()"
   ]
  },
  {
   "cell_type": "code",
   "execution_count": 6,
   "id": "97c00420",
   "metadata": {},
   "outputs": [
    {
     "data": {
      "text/plain": [
       "\"Explanation\\nWhy the edits made under my username Hardcore Metallica Fan were reverted? They weren't vandalisms, just closure on some GAs after I voted at New York Dolls FAC. And please don't remove the template from the talk page since I'm retired now.89.205.38.27\""
      ]
     },
     "execution_count": 6,
     "metadata": {},
     "output_type": "execute_result"
    }
   ],
   "source": [
    "df['comment_text'][0]"
   ]
  },
  {
   "cell_type": "code",
   "execution_count": 7,
   "id": "9af4fe9a",
   "metadata": {},
   "outputs": [
    {
     "data": {
      "text/plain": [
       "'However, the Moonlite edit noted by golden daph was me (on optus ...)  Wake up wikkis.  So funny'"
      ]
     },
     "execution_count": 7,
     "metadata": {},
     "output_type": "execute_result"
    }
   ],
   "source": [
    "df['comment_text'][100]"
   ]
  },
  {
   "cell_type": "code",
   "execution_count": 8,
   "id": "14675650",
   "metadata": {},
   "outputs": [
    {
     "data": {
      "text/plain": [
       "\"Rex Mundi \\n\\nI've created a stub on Rex Mundi at Rex Mundi High School.  Only thing I know about it is that both my Aunt Donna and Bob Griese went there.  Please add anything you might know about it.\\n\\nBTW, my dad was a Panther; I live in Princeton myself.\""
      ]
     },
     "execution_count": 8,
     "metadata": {},
     "output_type": "execute_result"
    }
   ],
   "source": [
    "df['comment_text'][1000]"
   ]
  },
  {
   "cell_type": "code",
   "execution_count": 9,
   "id": "9bb3dbc7",
   "metadata": {
    "scrolled": true
   },
   "outputs": [
    {
     "data": {
      "text/plain": [
       "0    0.997004\n",
       "1    0.002996\n",
       "Name: threat, dtype: float64"
      ]
     },
     "execution_count": 9,
     "metadata": {},
     "output_type": "execute_result"
    }
   ],
   "source": [
    "df.threat.value_counts(normalize=True)"
   ]
  },
  {
   "cell_type": "code",
   "execution_count": 10,
   "id": "dd0c33c6",
   "metadata": {},
   "outputs": [
    {
     "data": {
      "text/plain": [
       "0    0.904156\n",
       "1    0.095844\n",
       "Name: toxic, dtype: float64"
      ]
     },
     "execution_count": 10,
     "metadata": {},
     "output_type": "execute_result"
    }
   ],
   "source": [
    "df.toxic.value_counts(normalize=True)"
   ]
  },
  {
   "cell_type": "code",
   "execution_count": 11,
   "id": "2bc21d1a",
   "metadata": {
    "scrolled": true
   },
   "outputs": [
    {
     "data": {
      "text/plain": [
       "toxic            15294\n",
       "severe_toxic      1595\n",
       "obscene           8449\n",
       "threat             478\n",
       "insult            7877\n",
       "identity_hate     1405\n",
       "dtype: int64"
      ]
     },
     "execution_count": 11,
     "metadata": {},
     "output_type": "execute_result"
    }
   ],
   "source": [
    "# Take a look the counts of values\n",
    "df_count = df.iloc[:,2:].sum()\n",
    "df_count"
   ]
  },
  {
   "cell_type": "markdown",
   "id": "67b44d6c",
   "metadata": {},
   "source": [
    "## Visualizing categories based on their count"
   ]
  },
  {
   "cell_type": "code",
   "execution_count": 64,
   "id": "893bd07c",
   "metadata": {
    "scrolled": true
   },
   "outputs": [
    {
     "data": {
      "image/png": "[encoded data removed]",
      "text/plain": [
       "<Figure size 800x400 with 1 Axes>"
      ]
     },
     "metadata": {},
     "output_type": "display_data"
    }
   ],
   "source": [
    "# Visualizing it by barplot,\n",
    "plt.figure(figsize=(8,4))\n",
    "\n",
    "ax=sns.barplot(x=df_count.index,y= df_count.values, alpha=0.8)\n",
    "plt.title(\"No. of comments per class\")\n",
    "plt.ylabel('No. of Occurrences')\n",
    "plt.xlabel('Type ')\n",
    "\n",
    "#adding the text labels for each bar\n",
    "rects = ax.patches\n",
    "labels = df_count.values\n",
    "for rect, label in zip(rects, labels):\n",
    "    height = rect.get_height()\n",
    "    ax.text(rect.get_x() + rect.get_width()/2, height + 5, label, ha='center', va='bottom')\n",
    "\n",
    "plt.show()\n",
    "\n",
    "plt.show()"
   ]
  },
  {
   "cell_type": "code",
   "execution_count": 13,
   "id": "9beb4354",
   "metadata": {},
   "outputs": [
    {
     "data": {
      "text/plain": [
       "159571"
      ]
     },
     "execution_count": 13,
     "metadata": {},
     "output_type": "execute_result"
    }
   ],
   "source": [
    "num_rows=len(df)\n",
    "num_rows"
   ]
  },
  {
   "cell_type": "markdown",
   "id": "12df1818",
   "metadata": {},
   "source": [
    "### Percentage of each categories which present in the comments"
   ]
  },
  {
   "cell_type": "code",
   "execution_count": 14,
   "id": "c44ae450",
   "metadata": {},
   "outputs": [],
   "source": [
    "#  percentage of each categories in comments\n",
    "sum_tox = df['toxic'].sum() / num_rows * 100\n",
    "sum_sev = df['severe_toxic'].sum() / num_rows * 100\n",
    "sum_obs = df['obscene'].sum() / num_rows * 100\n",
    "sum_thr = df['threat'].sum() / num_rows * 100\n",
    "sum_ins = df['insult'].sum() / num_rows * 100\n",
    "sum_ide = df['identity_hate'].sum() / num_rows * 100\n",
    "\n",
    "percentage_of_all= [sum_tox,sum_sev,sum_obs,sum_thr,sum_ins,sum_ide]\n",
    "unit='%'\n",
    "percntge=[]\n",
    "for elem in percentage_of_all:\n",
    "    percntge.append(str(elem) + unit)"
   ]
  },
  {
   "cell_type": "code",
   "execution_count": 15,
   "id": "4a94ae99",
   "metadata": {},
   "outputs": [
    {
     "data": {
      "text/plain": [
       "['9.584448302009765%',\n",
       " '0.9995550569965721%',\n",
       " '5.2948217407925%',\n",
       " '0.2995531769557125%',\n",
       " '4.936360616904074%',\n",
       " '0.8804858025581089%']"
      ]
     },
     "execution_count": 15,
     "metadata": {},
     "output_type": "execute_result"
    }
   ],
   "source": [
    "percntge"
   ]
  },
  {
   "cell_type": "markdown",
   "id": "e009f8a0",
   "metadata": {},
   "source": [
    "# Preprocess the text"
   ]
  },
  {
   "cell_type": "code",
   "execution_count": 16,
   "id": "db7a54ab",
   "metadata": {},
   "outputs": [
    {
     "data": {
      "text/plain": [
       "'explanation why the edits made under my username hardcore metallica fan were reverted  they weren t vandalisms  just closure on some gas after i voted at new york dolls fac  and please don t remove the template from the talk page since i m retired now        '"
      ]
     },
     "execution_count": 16,
     "metadata": {},
     "output_type": "execute_result"
    }
   ],
   "source": [
    "# Text preprocessing steps - remove numbers, capital letters, punctuation, '\\n'\n",
    "import re\n",
    "import string\n",
    "\n",
    "# remove all numbers with letters attached to them\n",
    "alphanumeric = lambda x: re.sub('\\w*\\d\\w*', ' ', x)\n",
    "\n",
    "# '[%s]' % re.escape(string.punctuation),' ' - replace punctuation with white space\n",
    "# .lower() - convert all strings to lowercase \n",
    "punc_lower = lambda x: re.sub('[%s]' % re.escape(string.punctuation), ' ', x.lower())\n",
    "\n",
    "# Remove all '\\n' in the string and replace it with a space\n",
    "remove_n = lambda x: re.sub(\"\\n\", \" \", x)\n",
    "\n",
    "# Remove all non-ascii characters \n",
    "remove_non_ascii = lambda x: re.sub(r'[^\\x00-\\x7f]',r' ', x)\n",
    "\n",
    "# Apply all the lambda functions wrote previously through .map on the comments column\n",
    "df['comment_text'] = df['comment_text'].map(alphanumeric).map(punc_lower).map(remove_n).map(remove_non_ascii)\n",
    "\n",
    "df['comment_text'][0]"
   ]
  },
  {
   "cell_type": "markdown",
   "id": "63e2dad5",
   "metadata": {},
   "source": [
    "## Seperate the dataset to 6 sections based on category"
   ]
  },
  {
   "cell_type": "code",
   "execution_count": 17,
   "id": "8dd9c717",
   "metadata": {},
   "outputs": [],
   "source": [
    "df_tox = df.loc[:,['id','comment_text','toxic']]"
   ]
  },
  {
   "cell_type": "code",
   "execution_count": 18,
   "id": "92acbd39",
   "metadata": {},
   "outputs": [],
   "source": [
    "df_sev = df.loc[:,['id','comment_text','severe_toxic']]\n",
    "df_obs = df.loc[:,['id','comment_text','obscene']]\n",
    "df_thr = df.loc[:,['id','comment_text','threat']]\n",
    "df_ins = df.loc[:,['id','comment_text','insult']]\n",
    "df_ide = df.loc[:,['id','comment_text','identity_hate']]"
   ]
  },
  {
   "cell_type": "code",
   "execution_count": 19,
   "id": "42ce94ad",
   "metadata": {},
   "outputs": [
    {
     "data": {
      "text/plain": [
       "'explanation why the edits made under my username hardcore metallica fan were reverted  they weren t vandalisms  just closure on some gas after i voted at new york dolls fac  and please don t remove the template from the talk page since i m retired now        '"
      ]
     },
     "execution_count": 19,
     "metadata": {},
     "output_type": "execute_result"
    }
   ],
   "source": [
    "df_tox['comment_text'][0]"
   ]
  },
  {
   "cell_type": "markdown",
   "id": "25f31899",
   "metadata": {},
   "source": [
    "### For a start, we can take 5000 rows of comments that are toxic and concatenate them row-wise with those that are not toxic so that we have a balanced dataset."
   ]
  },
  {
   "cell_type": "code",
   "execution_count": 20,
   "id": "2bd4a60f",
   "metadata": {},
   "outputs": [
    {
     "data": {
      "text/html": [
       "<div>\n",
       "<style scoped>\n",
       "    .dataframe tbody tr th:only-of-type {\n",
       "        vertical-align: middle;\n",
       "    }\n",
       "\n",
       "    .dataframe tbody tr th {\n",
       "        vertical-align: top;\n",
       "    }\n",
       "\n",
       "    .dataframe thead th {\n",
       "        text-align: right;\n",
       "    }\n",
       "</style>\n",
       "<table border=\"1\" class=\"dataframe\">\n",
       "  <thead>\n",
       "    <tr style=\"text-align: right;\">\n",
       "      <th></th>\n",
       "      <th>id</th>\n",
       "      <th>comment_text</th>\n",
       "      <th>toxic</th>\n",
       "    </tr>\n",
       "  </thead>\n",
       "  <tbody>\n",
       "    <tr>\n",
       "      <th>0</th>\n",
       "      <td>0000997932d777bf</td>\n",
       "      <td>explanation why the edits made under my userna...</td>\n",
       "      <td>0</td>\n",
       "    </tr>\n",
       "    <tr>\n",
       "      <th>1</th>\n",
       "      <td>000103f0d9cfb60f</td>\n",
       "      <td>d aww  he matches this background colour i m s...</td>\n",
       "      <td>0</td>\n",
       "    </tr>\n",
       "    <tr>\n",
       "      <th>2</th>\n",
       "      <td>000113f07ec002fd</td>\n",
       "      <td>hey man  i m really not trying to edit war  it...</td>\n",
       "      <td>0</td>\n",
       "    </tr>\n",
       "    <tr>\n",
       "      <th>3</th>\n",
       "      <td>0001b41b1c6bb37e</td>\n",
       "      <td>more i can t make any real suggestions on im...</td>\n",
       "      <td>0</td>\n",
       "    </tr>\n",
       "    <tr>\n",
       "      <th>4</th>\n",
       "      <td>0001d958c54c6e35</td>\n",
       "      <td>you  sir  are my hero  any chance you remember...</td>\n",
       "      <td>0</td>\n",
       "    </tr>\n",
       "  </tbody>\n",
       "</table>\n",
       "</div>"
      ],
      "text/plain": [
       "                 id                                       comment_text  toxic\n",
       "0  0000997932d777bf  explanation why the edits made under my userna...      0\n",
       "1  000103f0d9cfb60f  d aww  he matches this background colour i m s...      0\n",
       "2  000113f07ec002fd  hey man  i m really not trying to edit war  it...      0\n",
       "3  0001b41b1c6bb37e    more i can t make any real suggestions on im...      0\n",
       "4  0001d958c54c6e35  you  sir  are my hero  any chance you remember...      0"
      ]
     },
     "execution_count": 20,
     "metadata": {},
     "output_type": "execute_result"
    }
   ],
   "source": [
    "df_tox.head()"
   ]
  },
  {
   "cell_type": "code",
   "execution_count": 21,
   "id": "b8b31b0f",
   "metadata": {},
   "outputs": [
    {
     "data": {
      "text/plain": [
       "(5000, 3)"
      ]
     },
     "execution_count": 21,
     "metadata": {},
     "output_type": "execute_result"
    }
   ],
   "source": [
    "df_tox_1 = df_tox[df_tox['toxic'] == 1].iloc[0:5000,:]\n",
    "df_tox_1.shape"
   ]
  },
  {
   "cell_type": "code",
   "execution_count": 22,
   "id": "ad2c2422",
   "metadata": {},
   "outputs": [],
   "source": [
    "df_tox_0 = df_tox[df_tox['toxic'] == 0].iloc[0:5000,:]"
   ]
  },
  {
   "cell_type": "code",
   "execution_count": 23,
   "id": "67360388",
   "metadata": {},
   "outputs": [
    {
     "data": {
      "text/plain": [
       "(10000, 3)"
      ]
     },
     "execution_count": 23,
     "metadata": {},
     "output_type": "execute_result"
    }
   ],
   "source": [
    "df_tox_done = pd.concat([df_tox_1, df_tox_0], axis=0)\n",
    "df_tox_done.shape"
   ]
  },
  {
   "cell_type": "markdown",
   "id": "5bc805d7",
   "metadata": {},
   "source": [
    "### We should count other categories first and make them balanced."
   ]
  },
  {
   "cell_type": "code",
   "execution_count": 24,
   "id": "83fafa49",
   "metadata": {},
   "outputs": [
    {
     "data": {
      "text/plain": [
       "id              1595\n",
       "comment_text    1595\n",
       "severe_toxic    1595\n",
       "dtype: int64"
      ]
     },
     "execution_count": 24,
     "metadata": {},
     "output_type": "execute_result"
    }
   ],
   "source": [
    "df_sev[df_sev['severe_toxic'] == 1].count()"
   ]
  },
  {
   "cell_type": "code",
   "execution_count": 25,
   "id": "23169cd5",
   "metadata": {},
   "outputs": [
    {
     "data": {
      "text/plain": [
       "(3190, 3)"
      ]
     },
     "execution_count": 25,
     "metadata": {},
     "output_type": "execute_result"
    }
   ],
   "source": [
    "df_sev_1 = df_sev[df_sev['severe_toxic'] == 1].iloc[0:1595,:]\n",
    "df_sev_0 = df_sev[df_sev['severe_toxic'] == 0].iloc[0:1595,:]\n",
    "df_sev_done = pd.concat([df_sev_1, df_sev_0], axis=0)\n",
    "df_sev_done.shape"
   ]
  },
  {
   "cell_type": "code",
   "execution_count": 26,
   "id": "cbcb7a50",
   "metadata": {},
   "outputs": [
    {
     "data": {
      "text/plain": [
       "id              8449\n",
       "comment_text    8449\n",
       "obscene         8449\n",
       "dtype: int64"
      ]
     },
     "execution_count": 26,
     "metadata": {},
     "output_type": "execute_result"
    }
   ],
   "source": [
    "df_obs[df_obs['obscene'] == 1].count()"
   ]
  },
  {
   "cell_type": "code",
   "execution_count": 27,
   "id": "026c39b9",
   "metadata": {},
   "outputs": [
    {
     "data": {
      "text/plain": [
       "(10000, 3)"
      ]
     },
     "execution_count": 27,
     "metadata": {},
     "output_type": "execute_result"
    }
   ],
   "source": [
    "df_obs_1=df_obs[df_obs['obscene']==1].iloc[0:5000,:]\n",
    "df_obs_0=df_obs[df_obs['obscene']==0].iloc[0:5000,:]\n",
    "df_obs_done = pd.concat([df_obs_1, df_obs_0], axis=0)\n",
    "df_obs_done.shape"
   ]
  },
  {
   "cell_type": "code",
   "execution_count": 28,
   "id": "156b072d",
   "metadata": {},
   "outputs": [
    {
     "data": {
      "text/plain": [
       "id              478\n",
       "comment_text    478\n",
       "threat          478\n",
       "dtype: int64"
      ]
     },
     "execution_count": 28,
     "metadata": {},
     "output_type": "execute_result"
    }
   ],
   "source": [
    "df_thr[df_thr['threat'] == 1].count()"
   ]
  },
  {
   "cell_type": "code",
   "execution_count": 29,
   "id": "34809f89",
   "metadata": {},
   "outputs": [
    {
     "data": {
      "text/plain": [
       "(2390, 3)"
      ]
     },
     "execution_count": 29,
     "metadata": {},
     "output_type": "execute_result"
    }
   ],
   "source": [
    "df_thr_1 = df_thr[df_thr['threat'] == 1].iloc[0:478,:]\n",
    "\n",
    "# We include 1912 comments that have no threat so that the data with threat (478) will represent 20% of the dataset.\n",
    "df_thr_0 = df_thr[df_thr['threat'] == 0].iloc[0:1912,:]  \n",
    "df_thr_done = pd.concat([df_thr_1, df_thr_0], axis=0)\n",
    "df_thr_done.shape"
   ]
  },
  {
   "cell_type": "code",
   "execution_count": 30,
   "id": "9ad35d11",
   "metadata": {},
   "outputs": [
    {
     "data": {
      "text/plain": [
       "id              7877\n",
       "comment_text    7877\n",
       "insult          7877\n",
       "dtype: int64"
      ]
     },
     "execution_count": 30,
     "metadata": {},
     "output_type": "execute_result"
    }
   ],
   "source": [
    "df_ins[df_ins['insult'] == 1].count()"
   ]
  },
  {
   "cell_type": "code",
   "execution_count": 31,
   "id": "041d9ea9",
   "metadata": {},
   "outputs": [
    {
     "data": {
      "text/plain": [
       "(10000, 3)"
      ]
     },
     "execution_count": 31,
     "metadata": {},
     "output_type": "execute_result"
    }
   ],
   "source": [
    "df_ins_1 = df_ins[df_ins['insult'] == 1].iloc[0:5000,:]\n",
    "df_ins_0 = df_ins[df_ins['insult'] == 0].iloc[0:5000,:]\n",
    "df_ins_done = pd.concat([df_ins_1, df_ins_0], axis=0)\n",
    "df_ins_done.shape"
   ]
  },
  {
   "cell_type": "code",
   "execution_count": 32,
   "id": "79ac9c03",
   "metadata": {},
   "outputs": [
    {
     "data": {
      "text/plain": [
       "id               1405\n",
       "comment_text     1405\n",
       "identity_hate    1405\n",
       "dtype: int64"
      ]
     },
     "execution_count": 32,
     "metadata": {},
     "output_type": "execute_result"
    }
   ],
   "source": [
    "df_ide[df_ide['identity_hate'] == 1].count()"
   ]
  },
  {
   "cell_type": "code",
   "execution_count": 33,
   "id": "2c8ea0b4",
   "metadata": {},
   "outputs": [
    {
     "data": {
      "text/plain": [
       "(7025, 3)"
      ]
     },
     "execution_count": 33,
     "metadata": {},
     "output_type": "execute_result"
    }
   ],
   "source": [
    "df_ide_1 = df_ide[df_ide['identity_hate'] == 1].iloc[0:1405,:] # 20%\n",
    "df_ide_0 = df_ide[df_ide['identity_hate'] == 0].iloc[0:5620,:] # 80%\n",
    "df_ide_done = pd.concat([df_ide_1, df_ide_0], axis=0)\n",
    "df_ide_done.shape"
   ]
  },
  {
   "cell_type": "code",
   "execution_count": 34,
   "id": "36d715cc",
   "metadata": {},
   "outputs": [
    {
     "name": "stderr",
     "output_type": "stream",
     "text": [
      "C:\\Users\\gouth\\Documents\\env\\lib\\site-packages\\pandas\\core\\internals\\construction.py:568: VisibleDeprecationWarning: Creating an ndarray from ragged nested sequences (which is a list-or-tuple of lists-or-tuples-or ndarrays with different lengths or shapes) is deprecated. If you meant to do this, you must specify 'dtype=object' when creating the ndarray.\n",
      "  values = np.array([convert(v) for v in values])\n"
     ]
    }
   ],
   "source": [
    "df_done = pd.DataFrame([df_tox_done,df_sev_done,df_obs_done,df_thr_done,df_ins_done,df_ide_done])"
   ]
  },
  {
   "cell_type": "code",
   "execution_count": 35,
   "id": "e619b5d0",
   "metadata": {},
   "outputs": [
    {
     "data": {
      "text/plain": [
       "1    5000\n",
       "0    5000\n",
       "Name: toxic, dtype: int64"
      ]
     },
     "execution_count": 35,
     "metadata": {},
     "output_type": "execute_result"
    }
   ],
   "source": [
    "df_tox_done['toxic'].value_counts()"
   ]
  },
  {
   "cell_type": "code",
   "execution_count": 36,
   "id": "4f4e4fb8",
   "metadata": {},
   "outputs": [
    {
     "data": {
      "text/html": [
       "<div>\n",
       "<style scoped>\n",
       "    .dataframe tbody tr th:only-of-type {\n",
       "        vertical-align: middle;\n",
       "    }\n",
       "\n",
       "    .dataframe tbody tr th {\n",
       "        vertical-align: top;\n",
       "    }\n",
       "\n",
       "    .dataframe thead th {\n",
       "        text-align: right;\n",
       "    }\n",
       "</style>\n",
       "<table border=\"1\" class=\"dataframe\">\n",
       "  <thead>\n",
       "    <tr style=\"text-align: right;\">\n",
       "      <th></th>\n",
       "      <th>0</th>\n",
       "    </tr>\n",
       "  </thead>\n",
       "  <tbody>\n",
       "    <tr>\n",
       "      <th>0</th>\n",
       "      <td>id                        ...</td>\n",
       "    </tr>\n",
       "    <tr>\n",
       "      <th>1</th>\n",
       "      <td>id                        ...</td>\n",
       "    </tr>\n",
       "    <tr>\n",
       "      <th>2</th>\n",
       "      <td>id                        ...</td>\n",
       "    </tr>\n",
       "    <tr>\n",
       "      <th>3</th>\n",
       "      <td>id                        ...</td>\n",
       "    </tr>\n",
       "    <tr>\n",
       "      <th>4</th>\n",
       "      <td>id                        ...</td>\n",
       "    </tr>\n",
       "    <tr>\n",
       "      <th>5</th>\n",
       "      <td>id                        ...</td>\n",
       "    </tr>\n",
       "  </tbody>\n",
       "</table>\n",
       "</div>"
      ],
      "text/plain": [
       "                                                   0\n",
       "0                      id                        ...\n",
       "1                      id                        ...\n",
       "2                      id                        ...\n",
       "3                      id                        ...\n",
       "4                      id                        ...\n",
       "5                      id                        ..."
      ]
     },
     "execution_count": 36,
     "metadata": {},
     "output_type": "execute_result"
    }
   ],
   "source": [
    "df_done"
   ]
  },
  {
   "cell_type": "markdown",
   "id": "afafad6d",
   "metadata": {},
   "source": [
    "## Some relevant packages for modeling"
   ]
  },
  {
   "cell_type": "code",
   "execution_count": 37,
   "id": "e35f72f5",
   "metadata": {},
   "outputs": [],
   "source": [
    "# Import packages for pre-processing\n",
    "from sklearn import preprocessing\n",
    "from sklearn.feature_selection import SelectFromModel\n",
    "\n",
    "# Import tools to split data and evaluate model performance\n",
    "from sklearn.model_selection import train_test_split, KFold, cross_val_score\n",
    "from sklearn.metrics import f1_score, precision_score, recall_score, precision_recall_curve, fbeta_score, confusion_matrix\n",
    "from sklearn.metrics import roc_auc_score, roc_curve\n",
    "\n",
    "# Import ML algos\n",
    "from sklearn.linear_model import LogisticRegression\n",
    "from sklearn.neighbors import KNeighborsClassifier\n",
    "from sklearn.naive_bayes import MultinomialNB, BernoulliNB\n",
    "from sklearn.svm import LinearSVC\n",
    "from sklearn.ensemble import RandomForestClassifier"
   ]
  },
  {
   "cell_type": "markdown",
   "id": "831f8051",
   "metadata": {},
   "source": [
    "## Create simple function that takes in a dataset and allows user to choose dataset, toxicity label, vectorizer and number of ngrams"
   ]
  },
  {
   "cell_type": "code",
   "execution_count": 38,
   "id": "c40fe4c7",
   "metadata": {},
   "outputs": [],
   "source": [
    "def cv_tf_train_test(df_done,label,vectorizer,ngram):\n",
    "\n",
    "    ''' Train/Test split'''\n",
    "    # Split the data into X and y data sets\n",
    "    X = df_done.comment_text\n",
    "    y = df_done[label]\n",
    "\n",
    "    # Split our data into training and test data \n",
    "    X_train, X_test, y_train, y_test = train_test_split(X, y, test_size=0.3, random_state=42)\n",
    "\n",
    "    ''' Count Vectorizer/TF-IDF '''\n",
    "\n",
    "    # Create a Vectorizer object and remove stopwords from the table\n",
    "    cv1 = vectorizer(ngram_range=(ngram), stop_words='english')\n",
    "    \n",
    "    X_train_cv1 = cv1.fit_transform(X_train) # Learn the vocabulary dictionary and return term-document matrix\n",
    "    X_test_cv1  = cv1.transform(X_test)      # Learn a vocabulary dictionary of all tokens in the raw documents.\n",
    "    \n",
    "    # Output a Dataframe of the CountVectorizer with unique words as the labels\n",
    "    # test = pd.DataFrame(X_train_cv1.toarray(), columns=cv1.get_feature_names())\n",
    "        \n",
    "    ''' Initialize all model objects and fit the models on the training data '''\n",
    "    lr = LogisticRegression()\n",
    "    lr.fit(X_train_cv1, y_train)\n",
    "    print('lr done')\n",
    "\n",
    "    knn = KNeighborsClassifier(n_neighbors=5)\n",
    "    knn.fit(X_train_cv1, y_train)\n",
    "\n",
    "    bnb = BernoulliNB()\n",
    "    bnb.fit(X_train_cv1, y_train)\n",
    "    print('bnb done')\n",
    "    \n",
    "    mnb = MultinomialNB()\n",
    "    mnb.fit(X_train_cv1, y_train)\n",
    "    print('mnb done')\n",
    "    \n",
    "    svm_model = LinearSVC()\n",
    "    svm_model.fit(X_train_cv1, y_train)\n",
    "\n",
    "    randomforest = RandomForestClassifier(n_estimators=100, random_state=42)\n",
    "    randomforest.fit(X_train_cv1, y_train)\n",
    "    print('rdf done')\n",
    "    \n",
    "    # Create a list of F1 score of all models \n",
    "    f1_score_data = {'F1 Score':[f1_score(lr.predict(X_test_cv1), y_test), f1_score(knn.predict(X_test_cv1), y_test), \n",
    "                                f1_score(bnb.predict(X_test_cv1), y_test), f1_score(mnb.predict(X_test_cv1), y_test),\n",
    "                                f1_score(svm_model.predict(X_test_cv1), y_test), f1_score(randomforest.predict(X_test_cv1), y_test)]} \n",
    "                          \n",
    "    # Create DataFrame with the model names as column labels\n",
    "    df_f1 = pd.DataFrame(f1_score_data, index=['Log Regression','KNN', 'BernoulliNB', 'MultinomialNB', 'SVM', 'Random Forest'])  \n",
    "\n",
    "    return df_f1"
   ]
  },
  {
   "cell_type": "markdown",
   "id": "794a8c3e",
   "metadata": {},
   "source": [
    "## Let's create a TF-IDF vectorizer object for each category and calculate the F1 scores across all models"
   ]
  },
  {
   "cell_type": "code",
   "execution_count": 40,
   "id": "5480d80b",
   "metadata": {},
   "outputs": [
    {
     "name": "stdout",
     "output_type": "stream",
     "text": [
      "lr done\n",
      "bnb done\n",
      "mnb done\n",
      "rdf done\n",
      "Time taken: 26.896600246429443 seconds\n"
     ]
    },
    {
     "data": {
      "text/html": [
       "<div>\n",
       "<style scoped>\n",
       "    .dataframe tbody tr th:only-of-type {\n",
       "        vertical-align: middle;\n",
       "    }\n",
       "\n",
       "    .dataframe tbody tr th {\n",
       "        vertical-align: top;\n",
       "    }\n",
       "\n",
       "    .dataframe thead th {\n",
       "        text-align: right;\n",
       "    }\n",
       "</style>\n",
       "<table border=\"1\" class=\"dataframe\">\n",
       "  <thead>\n",
       "    <tr style=\"text-align: right;\">\n",
       "      <th></th>\n",
       "      <th>F1 Score(toxic)</th>\n",
       "    </tr>\n",
       "  </thead>\n",
       "  <tbody>\n",
       "    <tr>\n",
       "      <th>Log Regression</th>\n",
       "      <td>0.861234</td>\n",
       "    </tr>\n",
       "    <tr>\n",
       "      <th>KNN</th>\n",
       "      <td>0.185120</td>\n",
       "    </tr>\n",
       "    <tr>\n",
       "      <th>BernoulliNB</th>\n",
       "      <td>0.776521</td>\n",
       "    </tr>\n",
       "    <tr>\n",
       "      <th>MultinomialNB</th>\n",
       "      <td>0.874958</td>\n",
       "    </tr>\n",
       "    <tr>\n",
       "      <th>SVM</th>\n",
       "      <td>0.876133</td>\n",
       "    </tr>\n",
       "    <tr>\n",
       "      <th>Random Forest</th>\n",
       "      <td>0.838055</td>\n",
       "    </tr>\n",
       "  </tbody>\n",
       "</table>\n",
       "</div>"
      ],
      "text/plain": [
       "                F1 Score(toxic)\n",
       "Log Regression         0.861234\n",
       "KNN                    0.185120\n",
       "BernoulliNB            0.776521\n",
       "MultinomialNB          0.874958\n",
       "SVM                    0.876133\n",
       "Random Forest          0.838055"
      ]
     },
     "execution_count": 40,
     "metadata": {},
     "output_type": "execute_result"
    }
   ],
   "source": [
    "import time\n",
    "\n",
    "t0 = time.time()\n",
    "\n",
    "df_tox_cv = cv_tf_train_test(df_tox_done, 'toxic', TfidfVectorizer, (1,1))\n",
    "df_tox_cv.rename(columns={'F1 Score': 'F1 Score(toxic)'}, inplace=True)\n",
    "\n",
    "t1 = time.time()\n",
    "\n",
    "total = 'Time taken: {} seconds'.format(t1-t0)\n",
    "print(total)\n",
    "\n",
    "df_tox_cv"
   ]
  },
  {
   "cell_type": "code",
   "execution_count": 42,
   "id": "97719acf",
   "metadata": {},
   "outputs": [
    {
     "name": "stdout",
     "output_type": "stream",
     "text": [
      "lr done\n",
      "bnb done\n",
      "mnb done\n",
      "rdf done\n",
      "Time taken: 5.892108917236328 seconds\n"
     ]
    },
    {
     "data": {
      "text/html": [
       "<div>\n",
       "<style scoped>\n",
       "    .dataframe tbody tr th:only-of-type {\n",
       "        vertical-align: middle;\n",
       "    }\n",
       "\n",
       "    .dataframe tbody tr th {\n",
       "        vertical-align: top;\n",
       "    }\n",
       "\n",
       "    .dataframe thead th {\n",
       "        text-align: right;\n",
       "    }\n",
       "</style>\n",
       "<table border=\"1\" class=\"dataframe\">\n",
       "  <thead>\n",
       "    <tr style=\"text-align: right;\">\n",
       "      <th></th>\n",
       "      <th>F1 Score(severe_toxic)</th>\n",
       "    </tr>\n",
       "  </thead>\n",
       "  <tbody>\n",
       "    <tr>\n",
       "      <th>Log Regression</th>\n",
       "      <td>0.927879</td>\n",
       "    </tr>\n",
       "    <tr>\n",
       "      <th>KNN</th>\n",
       "      <td>0.857416</td>\n",
       "    </tr>\n",
       "    <tr>\n",
       "      <th>BernoulliNB</th>\n",
       "      <td>0.803707</td>\n",
       "    </tr>\n",
       "    <tr>\n",
       "      <th>MultinomialNB</th>\n",
       "      <td>0.936170</td>\n",
       "    </tr>\n",
       "    <tr>\n",
       "      <th>SVM</th>\n",
       "      <td>0.926004</td>\n",
       "    </tr>\n",
       "    <tr>\n",
       "      <th>Random Forest</th>\n",
       "      <td>0.934874</td>\n",
       "    </tr>\n",
       "  </tbody>\n",
       "</table>\n",
       "</div>"
      ],
      "text/plain": [
       "                F1 Score(severe_toxic)\n",
       "Log Regression                0.927879\n",
       "KNN                           0.857416\n",
       "BernoulliNB                   0.803707\n",
       "MultinomialNB                 0.936170\n",
       "SVM                           0.926004\n",
       "Random Forest                 0.934874"
      ]
     },
     "execution_count": 42,
     "metadata": {},
     "output_type": "execute_result"
    }
   ],
   "source": [
    "t0 = time.time()\n",
    "\n",
    "df_sev_cv = cv_tf_train_test(df_sev_done, 'severe_toxic', TfidfVectorizer, (1,1))\n",
    "df_sev_cv.rename(columns={'F1 Score': 'F1 Score(severe_toxic)'}, inplace=True)\n",
    "\n",
    "t1 = time.time()\n",
    "\n",
    "total = 'Time taken: {} seconds'.format(t1-t0)\n",
    "print(total)\n",
    "df_sev_cv"
   ]
  },
  {
   "cell_type": "code",
   "execution_count": 43,
   "id": "6c7d59ff",
   "metadata": {},
   "outputs": [
    {
     "name": "stdout",
     "output_type": "stream",
     "text": [
      "lr done\n",
      "bnb done\n",
      "mnb done\n",
      "rdf done\n",
      "Time taken: 25.74070382118225 seconds\n"
     ]
    },
    {
     "data": {
      "text/html": [
       "<div>\n",
       "<style scoped>\n",
       "    .dataframe tbody tr th:only-of-type {\n",
       "        vertical-align: middle;\n",
       "    }\n",
       "\n",
       "    .dataframe tbody tr th {\n",
       "        vertical-align: top;\n",
       "    }\n",
       "\n",
       "    .dataframe thead th {\n",
       "        text-align: right;\n",
       "    }\n",
       "</style>\n",
       "<table border=\"1\" class=\"dataframe\">\n",
       "  <thead>\n",
       "    <tr style=\"text-align: right;\">\n",
       "      <th></th>\n",
       "      <th>F1 Score(obscene)</th>\n",
       "    </tr>\n",
       "  </thead>\n",
       "  <tbody>\n",
       "    <tr>\n",
       "      <th>Log Regression</th>\n",
       "      <td>0.908655</td>\n",
       "    </tr>\n",
       "    <tr>\n",
       "      <th>KNN</th>\n",
       "      <td>0.519056</td>\n",
       "    </tr>\n",
       "    <tr>\n",
       "      <th>BernoulliNB</th>\n",
       "      <td>0.787830</td>\n",
       "    </tr>\n",
       "    <tr>\n",
       "      <th>MultinomialNB</th>\n",
       "      <td>0.901463</td>\n",
       "    </tr>\n",
       "    <tr>\n",
       "      <th>SVM</th>\n",
       "      <td>0.921378</td>\n",
       "    </tr>\n",
       "    <tr>\n",
       "      <th>Random Forest</th>\n",
       "      <td>0.909091</td>\n",
       "    </tr>\n",
       "  </tbody>\n",
       "</table>\n",
       "</div>"
      ],
      "text/plain": [
       "                F1 Score(obscene)\n",
       "Log Regression           0.908655\n",
       "KNN                      0.519056\n",
       "BernoulliNB              0.787830\n",
       "MultinomialNB            0.901463\n",
       "SVM                      0.921378\n",
       "Random Forest            0.909091"
      ]
     },
     "execution_count": 43,
     "metadata": {},
     "output_type": "execute_result"
    }
   ],
   "source": [
    "t0 = time.time()\n",
    "\n",
    "df_obs_cv = cv_tf_train_test(df_obs_done, 'obscene', TfidfVectorizer, (1,1))\n",
    "df_obs_cv.rename(columns={'F1 Score': 'F1 Score(obscene)'}, inplace=True)\n",
    "\n",
    "t1 = time.time()\n",
    "\n",
    "total = 'Time taken: {} seconds'.format(t1-t0)\n",
    "print(total)\n",
    "\n",
    "df_obs_cv"
   ]
  },
  {
   "cell_type": "code",
   "execution_count": 44,
   "id": "2f543b74",
   "metadata": {},
   "outputs": [
    {
     "name": "stdout",
     "output_type": "stream",
     "text": [
      "lr done\n",
      "bnb done\n",
      "mnb done\n",
      "rdf done\n",
      "Time taken: 2.5914015769958496 seconds\n"
     ]
    },
    {
     "data": {
      "text/html": [
       "<div>\n",
       "<style scoped>\n",
       "    .dataframe tbody tr th:only-of-type {\n",
       "        vertical-align: middle;\n",
       "    }\n",
       "\n",
       "    .dataframe tbody tr th {\n",
       "        vertical-align: top;\n",
       "    }\n",
       "\n",
       "    .dataframe thead th {\n",
       "        text-align: right;\n",
       "    }\n",
       "</style>\n",
       "<table border=\"1\" class=\"dataframe\">\n",
       "  <thead>\n",
       "    <tr style=\"text-align: right;\">\n",
       "      <th></th>\n",
       "      <th>F1 Score(threat)</th>\n",
       "    </tr>\n",
       "  </thead>\n",
       "  <tbody>\n",
       "    <tr>\n",
       "      <th>Log Regression</th>\n",
       "      <td>0.628821</td>\n",
       "    </tr>\n",
       "    <tr>\n",
       "      <th>KNN</th>\n",
       "      <td>0.720000</td>\n",
       "    </tr>\n",
       "    <tr>\n",
       "      <th>BernoulliNB</th>\n",
       "      <td>0.311828</td>\n",
       "    </tr>\n",
       "    <tr>\n",
       "      <th>MultinomialNB</th>\n",
       "      <td>0.504762</td>\n",
       "    </tr>\n",
       "    <tr>\n",
       "      <th>SVM</th>\n",
       "      <td>0.786765</td>\n",
       "    </tr>\n",
       "    <tr>\n",
       "      <th>Random Forest</th>\n",
       "      <td>0.795539</td>\n",
       "    </tr>\n",
       "  </tbody>\n",
       "</table>\n",
       "</div>"
      ],
      "text/plain": [
       "                F1 Score(threat)\n",
       "Log Regression          0.628821\n",
       "KNN                     0.720000\n",
       "BernoulliNB             0.311828\n",
       "MultinomialNB           0.504762\n",
       "SVM                     0.786765\n",
       "Random Forest           0.795539"
      ]
     },
     "execution_count": 44,
     "metadata": {},
     "output_type": "execute_result"
    }
   ],
   "source": [
    "t0 = time.time()\n",
    "\n",
    "df_thr_cv = cv_tf_train_test(df_thr_done, 'threat', TfidfVectorizer, (1,1))\n",
    "df_thr_cv.rename(columns={'F1 Score': 'F1 Score(threat)'}, inplace=True)\n",
    "\n",
    "t1 = time.time()\n",
    "\n",
    "total = 'Time taken: {} seconds'.format(t1-t0)\n",
    "print(total)\n",
    "\n",
    "df_thr_cv"
   ]
  },
  {
   "cell_type": "code",
   "execution_count": 45,
   "id": "6fcdd089",
   "metadata": {},
   "outputs": [
    {
     "name": "stdout",
     "output_type": "stream",
     "text": [
      "lr done\n",
      "bnb done\n",
      "mnb done\n",
      "rdf done\n",
      "Time taken: 23.97647452354431 seconds\n"
     ]
    },
    {
     "data": {
      "text/html": [
       "<div>\n",
       "<style scoped>\n",
       "    .dataframe tbody tr th:only-of-type {\n",
       "        vertical-align: middle;\n",
       "    }\n",
       "\n",
       "    .dataframe tbody tr th {\n",
       "        vertical-align: top;\n",
       "    }\n",
       "\n",
       "    .dataframe thead th {\n",
       "        text-align: right;\n",
       "    }\n",
       "</style>\n",
       "<table border=\"1\" class=\"dataframe\">\n",
       "  <thead>\n",
       "    <tr style=\"text-align: right;\">\n",
       "      <th></th>\n",
       "      <th>F1 Score(insult)</th>\n",
       "    </tr>\n",
       "  </thead>\n",
       "  <tbody>\n",
       "    <tr>\n",
       "      <th>Log Regression</th>\n",
       "      <td>0.896599</td>\n",
       "    </tr>\n",
       "    <tr>\n",
       "      <th>KNN</th>\n",
       "      <td>0.257992</td>\n",
       "    </tr>\n",
       "    <tr>\n",
       "      <th>BernoulliNB</th>\n",
       "      <td>0.783762</td>\n",
       "    </tr>\n",
       "    <tr>\n",
       "      <th>MultinomialNB</th>\n",
       "      <td>0.897411</td>\n",
       "    </tr>\n",
       "    <tr>\n",
       "      <th>SVM</th>\n",
       "      <td>0.902619</td>\n",
       "    </tr>\n",
       "    <tr>\n",
       "      <th>Random Forest</th>\n",
       "      <td>0.883993</td>\n",
       "    </tr>\n",
       "  </tbody>\n",
       "</table>\n",
       "</div>"
      ],
      "text/plain": [
       "                F1 Score(insult)\n",
       "Log Regression          0.896599\n",
       "KNN                     0.257992\n",
       "BernoulliNB             0.783762\n",
       "MultinomialNB           0.897411\n",
       "SVM                     0.902619\n",
       "Random Forest           0.883993"
      ]
     },
     "execution_count": 45,
     "metadata": {},
     "output_type": "execute_result"
    }
   ],
   "source": [
    "t0 = time.time()\n",
    "\n",
    "df_ins_cv = cv_tf_train_test(df_ins_done, 'insult', TfidfVectorizer, (1,1))\n",
    "df_ins_cv.rename(columns={'F1 Score': 'F1 Score(insult)'}, inplace=True)\n",
    "\n",
    "t1 = time.time()\n",
    "\n",
    "total = 'Time taken: {} seconds'.format(t1-t0)\n",
    "print(total)\n",
    "\n",
    "df_ins_cv"
   ]
  },
  {
   "cell_type": "code",
   "execution_count": 47,
   "id": "c86222a7",
   "metadata": {},
   "outputs": [
    {
     "name": "stdout",
     "output_type": "stream",
     "text": [
      "lr done\n",
      "bnb done\n",
      "mnb done\n",
      "rdf done\n",
      "Time taken: 15.266616821289062 seconds\n"
     ]
    },
    {
     "data": {
      "text/html": [
       "<div>\n",
       "<style scoped>\n",
       "    .dataframe tbody tr th:only-of-type {\n",
       "        vertical-align: middle;\n",
       "    }\n",
       "\n",
       "    .dataframe tbody tr th {\n",
       "        vertical-align: top;\n",
       "    }\n",
       "\n",
       "    .dataframe thead th {\n",
       "        text-align: right;\n",
       "    }\n",
       "</style>\n",
       "<table border=\"1\" class=\"dataframe\">\n",
       "  <thead>\n",
       "    <tr style=\"text-align: right;\">\n",
       "      <th></th>\n",
       "      <th>F1 Score(identity_hate)</th>\n",
       "    </tr>\n",
       "  </thead>\n",
       "  <tbody>\n",
       "    <tr>\n",
       "      <th>Log Regression</th>\n",
       "      <td>0.699029</td>\n",
       "    </tr>\n",
       "    <tr>\n",
       "      <th>KNN</th>\n",
       "      <td>0.230159</td>\n",
       "    </tr>\n",
       "    <tr>\n",
       "      <th>BernoulliNB</th>\n",
       "      <td>0.549206</td>\n",
       "    </tr>\n",
       "    <tr>\n",
       "      <th>MultinomialNB</th>\n",
       "      <td>0.485857</td>\n",
       "    </tr>\n",
       "    <tr>\n",
       "      <th>SVM</th>\n",
       "      <td>0.797516</td>\n",
       "    </tr>\n",
       "    <tr>\n",
       "      <th>Random Forest</th>\n",
       "      <td>0.768448</td>\n",
       "    </tr>\n",
       "  </tbody>\n",
       "</table>\n",
       "</div>"
      ],
      "text/plain": [
       "                F1 Score(identity_hate)\n",
       "Log Regression                 0.699029\n",
       "KNN                            0.230159\n",
       "BernoulliNB                    0.549206\n",
       "MultinomialNB                  0.485857\n",
       "SVM                            0.797516\n",
       "Random Forest                  0.768448"
      ]
     },
     "execution_count": 47,
     "metadata": {},
     "output_type": "execute_result"
    }
   ],
   "source": [
    "t0 = time.time()\n",
    "\n",
    "df_ide_cv = cv_tf_train_test(df_ide_done, 'identity_hate', TfidfVectorizer, (1,1))\n",
    "df_ide_cv.rename(columns={'F1 Score': 'F1 Score(identity_hate)'}, inplace=True)\n",
    "\n",
    "t1 = time.time()\n",
    "\n",
    "total = 'Time taken: {} seconds'.format(t1-t0)\n",
    "print(total)\n",
    "\n",
    "df_ide_cv"
   ]
  },
  {
   "cell_type": "code",
   "execution_count": 48,
   "id": "bce89039",
   "metadata": {},
   "outputs": [
    {
     "data": {
      "text/html": [
       "<div>\n",
       "<style scoped>\n",
       "    .dataframe tbody tr th:only-of-type {\n",
       "        vertical-align: middle;\n",
       "    }\n",
       "\n",
       "    .dataframe tbody tr th {\n",
       "        vertical-align: top;\n",
       "    }\n",
       "\n",
       "    .dataframe thead th {\n",
       "        text-align: right;\n",
       "    }\n",
       "</style>\n",
       "<table border=\"1\" class=\"dataframe\">\n",
       "  <thead>\n",
       "    <tr style=\"text-align: right;\">\n",
       "      <th></th>\n",
       "      <th>F1 Score(toxic)</th>\n",
       "      <th>F1 Score(severe_toxic)</th>\n",
       "      <th>F1 Score(obscene)</th>\n",
       "      <th>F1 Score(insult)</th>\n",
       "      <th>F1 Score(threat)</th>\n",
       "      <th>F1 Score(identity_hate)</th>\n",
       "    </tr>\n",
       "  </thead>\n",
       "  <tbody>\n",
       "    <tr>\n",
       "      <th>Log Regression</th>\n",
       "      <td>0.861234</td>\n",
       "      <td>0.927879</td>\n",
       "      <td>0.908655</td>\n",
       "      <td>0.896599</td>\n",
       "      <td>0.628821</td>\n",
       "      <td>0.699029</td>\n",
       "    </tr>\n",
       "    <tr>\n",
       "      <th>KNN</th>\n",
       "      <td>0.185120</td>\n",
       "      <td>0.857416</td>\n",
       "      <td>0.519056</td>\n",
       "      <td>0.257992</td>\n",
       "      <td>0.720000</td>\n",
       "      <td>0.230159</td>\n",
       "    </tr>\n",
       "    <tr>\n",
       "      <th>BernoulliNB</th>\n",
       "      <td>0.776521</td>\n",
       "      <td>0.803707</td>\n",
       "      <td>0.787830</td>\n",
       "      <td>0.783762</td>\n",
       "      <td>0.311828</td>\n",
       "      <td>0.549206</td>\n",
       "    </tr>\n",
       "    <tr>\n",
       "      <th>MultinomialNB</th>\n",
       "      <td>0.874958</td>\n",
       "      <td>0.936170</td>\n",
       "      <td>0.901463</td>\n",
       "      <td>0.897411</td>\n",
       "      <td>0.504762</td>\n",
       "      <td>0.485857</td>\n",
       "    </tr>\n",
       "    <tr>\n",
       "      <th>SVM</th>\n",
       "      <td>0.876133</td>\n",
       "      <td>0.926004</td>\n",
       "      <td>0.921378</td>\n",
       "      <td>0.902619</td>\n",
       "      <td>0.786765</td>\n",
       "      <td>0.797516</td>\n",
       "    </tr>\n",
       "    <tr>\n",
       "      <th>Random Forest</th>\n",
       "      <td>0.838055</td>\n",
       "      <td>0.934874</td>\n",
       "      <td>0.909091</td>\n",
       "      <td>0.883993</td>\n",
       "      <td>0.795539</td>\n",
       "      <td>0.768448</td>\n",
       "    </tr>\n",
       "  </tbody>\n",
       "</table>\n",
       "</div>"
      ],
      "text/plain": [
       "                F1 Score(toxic)  F1 Score(severe_toxic)  F1 Score(obscene)  \\\n",
       "Log Regression         0.861234                0.927879           0.908655   \n",
       "KNN                    0.185120                0.857416           0.519056   \n",
       "BernoulliNB            0.776521                0.803707           0.787830   \n",
       "MultinomialNB          0.874958                0.936170           0.901463   \n",
       "SVM                    0.876133                0.926004           0.921378   \n",
       "Random Forest          0.838055                0.934874           0.909091   \n",
       "\n",
       "                F1 Score(insult)  F1 Score(threat)  F1 Score(identity_hate)  \n",
       "Log Regression          0.896599          0.628821                 0.699029  \n",
       "KNN                     0.257992          0.720000                 0.230159  \n",
       "BernoulliNB             0.783762          0.311828                 0.549206  \n",
       "MultinomialNB           0.897411          0.504762                 0.485857  \n",
       "SVM                     0.902619          0.786765                 0.797516  \n",
       "Random Forest           0.883993          0.795539                 0.768448  "
      ]
     },
     "execution_count": 48,
     "metadata": {},
     "output_type": "execute_result"
    }
   ],
   "source": [
    "# Let's combine the dataframes into a master dataframe to compare F1 scores across all categories.\n",
    "f1_all = pd.concat([df_tox_cv, df_sev_cv, df_obs_cv, df_ins_cv, df_thr_cv, df_ide_cv], axis=1)\n",
    "f1_all"
   ]
  },
  {
   "cell_type": "markdown",
   "id": "2ad39acb",
   "metadata": {},
   "source": [
    "## Let's transpose the above dataset"
   ]
  },
  {
   "cell_type": "code",
   "execution_count": 49,
   "id": "b8b38112",
   "metadata": {},
   "outputs": [
    {
     "data": {
      "text/html": [
       "<div>\n",
       "<style scoped>\n",
       "    .dataframe tbody tr th:only-of-type {\n",
       "        vertical-align: middle;\n",
       "    }\n",
       "\n",
       "    .dataframe tbody tr th {\n",
       "        vertical-align: top;\n",
       "    }\n",
       "\n",
       "    .dataframe thead th {\n",
       "        text-align: right;\n",
       "    }\n",
       "</style>\n",
       "<table border=\"1\" class=\"dataframe\">\n",
       "  <thead>\n",
       "    <tr style=\"text-align: right;\">\n",
       "      <th></th>\n",
       "      <th>Log Regression</th>\n",
       "      <th>KNN</th>\n",
       "      <th>BernoulliNB</th>\n",
       "      <th>MultinomialNB</th>\n",
       "      <th>SVM</th>\n",
       "      <th>Random Forest</th>\n",
       "    </tr>\n",
       "  </thead>\n",
       "  <tbody>\n",
       "    <tr>\n",
       "      <th>F1 Score(toxic)</th>\n",
       "      <td>0.861234</td>\n",
       "      <td>0.185120</td>\n",
       "      <td>0.776521</td>\n",
       "      <td>0.874958</td>\n",
       "      <td>0.876133</td>\n",
       "      <td>0.838055</td>\n",
       "    </tr>\n",
       "    <tr>\n",
       "      <th>F1 Score(severe_toxic)</th>\n",
       "      <td>0.927879</td>\n",
       "      <td>0.857416</td>\n",
       "      <td>0.803707</td>\n",
       "      <td>0.936170</td>\n",
       "      <td>0.926004</td>\n",
       "      <td>0.934874</td>\n",
       "    </tr>\n",
       "    <tr>\n",
       "      <th>F1 Score(obscene)</th>\n",
       "      <td>0.908655</td>\n",
       "      <td>0.519056</td>\n",
       "      <td>0.787830</td>\n",
       "      <td>0.901463</td>\n",
       "      <td>0.921378</td>\n",
       "      <td>0.909091</td>\n",
       "    </tr>\n",
       "    <tr>\n",
       "      <th>F1 Score(insult)</th>\n",
       "      <td>0.896599</td>\n",
       "      <td>0.257992</td>\n",
       "      <td>0.783762</td>\n",
       "      <td>0.897411</td>\n",
       "      <td>0.902619</td>\n",
       "      <td>0.883993</td>\n",
       "    </tr>\n",
       "    <tr>\n",
       "      <th>F1 Score(threat)</th>\n",
       "      <td>0.628821</td>\n",
       "      <td>0.720000</td>\n",
       "      <td>0.311828</td>\n",
       "      <td>0.504762</td>\n",
       "      <td>0.786765</td>\n",
       "      <td>0.795539</td>\n",
       "    </tr>\n",
       "    <tr>\n",
       "      <th>F1 Score(identity_hate)</th>\n",
       "      <td>0.699029</td>\n",
       "      <td>0.230159</td>\n",
       "      <td>0.549206</td>\n",
       "      <td>0.485857</td>\n",
       "      <td>0.797516</td>\n",
       "      <td>0.768448</td>\n",
       "    </tr>\n",
       "  </tbody>\n",
       "</table>\n",
       "</div>"
      ],
      "text/plain": [
       "                         Log Regression       KNN  BernoulliNB  MultinomialNB  \\\n",
       "F1 Score(toxic)                0.861234  0.185120     0.776521       0.874958   \n",
       "F1 Score(severe_toxic)         0.927879  0.857416     0.803707       0.936170   \n",
       "F1 Score(obscene)              0.908655  0.519056     0.787830       0.901463   \n",
       "F1 Score(insult)               0.896599  0.257992     0.783762       0.897411   \n",
       "F1 Score(threat)               0.628821  0.720000     0.311828       0.504762   \n",
       "F1 Score(identity_hate)        0.699029  0.230159     0.549206       0.485857   \n",
       "\n",
       "                              SVM  Random Forest  \n",
       "F1 Score(toxic)          0.876133       0.838055  \n",
       "F1 Score(severe_toxic)   0.926004       0.934874  \n",
       "F1 Score(obscene)        0.921378       0.909091  \n",
       "F1 Score(insult)         0.902619       0.883993  \n",
       "F1 Score(threat)         0.786765       0.795539  \n",
       "F1 Score(identity_hate)  0.797516       0.768448  "
      ]
     },
     "execution_count": 49,
     "metadata": {},
     "output_type": "execute_result"
    }
   ],
   "source": [
    "f1_all_trp = f1_all.transpose()\n",
    "f1_all_trp"
   ]
  },
  {
   "cell_type": "code",
   "execution_count": 58,
   "id": "25b5d7ca",
   "metadata": {},
   "outputs": [
    {
     "data": {
      "text/plain": [
       "Text(0.5, 1.0, 'F1 Score of ML models (TF-IDF)')"
      ]
     },
     "execution_count": 58,
     "metadata": {},
     "output_type": "execute_result"
    },
    {
     "data": {
      "image/png": "[encoded data removed]",
      "text/plain": [
       "<Figure size 640x480 with 1 Axes>"
      ]
     },
     "metadata": {},
     "output_type": "display_data"
    }
   ],
   "source": [
    "sns.lineplot(data=f1_all_trp, markers=True)\n",
    "plt.xticks(rotation='vertical', fontsize=14)\n",
    "plt.yticks(fontsize=14)\n",
    "plt.legend(loc='best')\n",
    "plt.title('F1 Score of ML models (TF-IDF)', fontsize=20)\n",
    "\n",
    "# Repeat this for CountVectorizer as well"
   ]
  },
  {
   "cell_type": "markdown",
   "id": "2bad6ced",
   "metadata": {},
   "source": [
    "## Test if our code actually works."
   ]
  },
  {
   "cell_type": "code",
   "execution_count": 60,
   "id": "76a3c39d",
   "metadata": {},
   "outputs": [
    {
     "data": {
      "text/html": [
       "<div>\n",
       "<style scoped>\n",
       "    .dataframe tbody tr th:only-of-type {\n",
       "        vertical-align: middle;\n",
       "    }\n",
       "\n",
       "    .dataframe tbody tr th {\n",
       "        vertical-align: top;\n",
       "    }\n",
       "\n",
       "    .dataframe thead th {\n",
       "        text-align: right;\n",
       "    }\n",
       "</style>\n",
       "<table border=\"1\" class=\"dataframe\">\n",
       "  <thead>\n",
       "    <tr style=\"text-align: right;\">\n",
       "      <th></th>\n",
       "      <th>id</th>\n",
       "      <th>comment_text</th>\n",
       "      <th>toxic</th>\n",
       "    </tr>\n",
       "  </thead>\n",
       "  <tbody>\n",
       "    <tr>\n",
       "      <th>6</th>\n",
       "      <td>0002bcb3da6cb337</td>\n",
       "      <td>cocksucker before you piss around on my work</td>\n",
       "      <td>1</td>\n",
       "    </tr>\n",
       "    <tr>\n",
       "      <th>12</th>\n",
       "      <td>0005c987bdfc9d4b</td>\n",
       "      <td>hey    what is it       talk   what is it    a...</td>\n",
       "      <td>1</td>\n",
       "    </tr>\n",
       "    <tr>\n",
       "      <th>16</th>\n",
       "      <td>0007e25b2121310b</td>\n",
       "      <td>bye    don t look  come or think of comming ba...</td>\n",
       "      <td>1</td>\n",
       "    </tr>\n",
       "    <tr>\n",
       "      <th>42</th>\n",
       "      <td>001810bf8c45bf5f</td>\n",
       "      <td>you are gay or antisemmitian    archangel whit...</td>\n",
       "      <td>1</td>\n",
       "    </tr>\n",
       "    <tr>\n",
       "      <th>43</th>\n",
       "      <td>00190820581d90ce</td>\n",
       "      <td>fuck your filthy mother in the ass  dry</td>\n",
       "      <td>1</td>\n",
       "    </tr>\n",
       "  </tbody>\n",
       "</table>\n",
       "</div>"
      ],
      "text/plain": [
       "                  id                                       comment_text  toxic\n",
       "6   0002bcb3da6cb337       cocksucker before you piss around on my work      1\n",
       "12  0005c987bdfc9d4b  hey    what is it       talk   what is it    a...      1\n",
       "16  0007e25b2121310b  bye    don t look  come or think of comming ba...      1\n",
       "42  001810bf8c45bf5f  you are gay or antisemmitian    archangel whit...      1\n",
       "43  00190820581d90ce           fuck your filthy mother in the ass  dry       1"
      ]
     },
     "execution_count": 60,
     "metadata": {},
     "output_type": "execute_result"
    }
   ],
   "source": [
    "df_tox_done.head()"
   ]
  },
  {
   "cell_type": "code",
   "execution_count": 61,
   "id": "23880935",
   "metadata": {},
   "outputs": [
    {
     "data": {
      "text/plain": [
       "array([0, 1, 1, ..., 1, 1, 1], dtype=int64)"
      ]
     },
     "execution_count": 61,
     "metadata": {},
     "output_type": "execute_result"
    }
   ],
   "source": [
    "X = df_tox_done.comment_text\n",
    "y = df_tox_done['toxic']\n",
    "\n",
    "X_train, X_test, y_train, y_test = train_test_split(X, y, test_size=0.3, random_state=42)\n",
    "\n",
    "# Initiate a Tfidf vectorizer\n",
    "\n",
    "tfv = TfidfVectorizer(ngram_range=(1,1), stop_words='english')\n",
    "\n",
    "X_train_fit = tfv.fit_transform(X_train)  # Convert the X data into a document term matrix dataframe\n",
    "X_test_fit = tfv.transform(X_test)  # Converts the X_test comments into Vectorized format\n",
    "\n",
    "randomforest = RandomForestClassifier(n_estimators=100, random_state=42)\n",
    "\n",
    "# Train our SVM model with the X training data converted into Count Vectorized format with the Y training data\n",
    "\n",
    "randomforest.fit(X_train_fit, y_train)\n",
    "randomforest.predict(X_test_fit)"
   ]
  },
  {
   "cell_type": "code",
   "execution_count": 62,
   "id": "e903c993",
   "metadata": {},
   "outputs": [
    {
     "data": {
      "text/plain": [
       "array([1.])"
      ]
     },
     "execution_count": 62,
     "metadata": {},
     "output_type": "execute_result"
    }
   ],
   "source": [
    "# Sample Prediction\n",
    "comment1 = ['You piece of shit']\n",
    "comment2 = ['What is up garden apple doing']\n",
    "\n",
    "comment1_vect = tfv.transform(comment1)\n",
    "randomforest.predict_proba(comment1_vect)[:,1]"
   ]
  },
  {
   "cell_type": "code",
   "execution_count": 63,
   "id": "9ebbd9aa",
   "metadata": {},
   "outputs": [
    {
     "data": {
      "text/plain": [
       "array([0.16036935])"
      ]
     },
     "execution_count": 63,
     "metadata": {},
     "output_type": "execute_result"
    }
   ],
   "source": [
    "comment2_vect = tfv.transform(comment2)\n",
    "randomforest.predict_proba(comment2_vect)[:,1]"
   ]
  },
  {
   "cell_type": "markdown",
   "id": "78741187",
   "metadata": {},
   "source": [
    "### We choose Random Forest instead of LinearSVC although the latter performs well, as RDF has predict_proba function and LinearSVC does not. "
   ]
  },
  {
   "cell_type": "code",
   "execution_count": 66,
   "id": "78a3bd01",
   "metadata": {},
   "outputs": [],
   "source": [
    "import pickle"
   ]
  },
  {
   "cell_type": "markdown",
   "id": "afbe187b",
   "metadata": {},
   "source": [
    "### We have to pickle not only the TF-IDF vectorizer object, but also the RDF model trained on the related vectorizer."
   ]
  },
  {
   "cell_type": "code",
   "execution_count": 68,
   "id": "0cfb058a",
   "metadata": {},
   "outputs": [],
   "source": [
    "def pickle_model(df, label):\n",
    "    \n",
    "    X = df.comment_text\n",
    "    y = df[label]\n",
    "\n",
    "    # Initiate a Tfidf vectorizer\n",
    "    tfv = TfidfVectorizer(ngram_range=(1,1), stop_words='english')\n",
    "    \n",
    "    # Convert the X data into a document term matrix dataframe\n",
    "    X_vect = tfv.fit_transform(X)  \n",
    "    \n",
    "    # saves the column labels (ie. the vocabulary)\n",
    "    # wb means Writing to the file in Binary mode, written in byte objects\n",
    "    with open(r\"{}.pkl\".format(label + '_vect'), \"wb\") as f:   \n",
    "        pickle.dump(tfv, f)   \n",
    "        \n",
    "    randomforest = RandomForestClassifier(n_estimators=100, random_state=42)\n",
    "    randomforest.fit(X_vect, y)\n",
    "\n",
    "    # Create a new pickle file based on random forest\n",
    "    with open(r\"{}.pkl\".format(label + '_model'), \"wb\") as f:  \n",
    "        pickle.dump(randomforest, f)\n",
    "        "
   ]
  },
  {
   "cell_type": "code",
   "execution_count": 70,
   "id": "d5f6e7f1",
   "metadata": {},
   "outputs": [],
   "source": [
    "# Create a list of objects to be pickled\n",
    "datalist = [df_tox_done, df_sev_done, df_obs_done, df_ins_done, df_thr_done, df_ide_done]\n",
    "\n",
    "# Loop through the list and create a pickle file for each object\n",
    "label = ['toxic', 'severe_toxic', 'obscene', 'insult', 'threat', 'identity_hate']\n",
    "\n",
    "for i,j in zip(datalist,label):\n",
    "    pickle_model(i, j)\n",
    "    "
   ]
  },
  {
   "cell_type": "code",
   "execution_count": null,
   "id": "4d9d3d68",
   "metadata": {},
   "outputs": [],
   "source": []
  }
 ],
 "metadata": {
  "kernelspec": {
   "display_name": "Python 3 (ipykernel)",
   "language": "python",
   "name": "python3"
  },
  "language_info": {
   "codemirror_mode": {
    "name": "ipython",
    "version": 3
   },
   "file_extension": ".py",
   "mimetype": "text/x-python",
   "name": "python",
   "nbconvert_exporter": "python",
   "pygments_lexer": "ipython3",
   "version": "3.10.8"
  }
 },
 "nbformat": 4,
 "nbformat_minor": 5
}
